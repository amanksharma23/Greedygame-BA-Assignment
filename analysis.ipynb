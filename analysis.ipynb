{
 "cells": [
  {
   "cell_type": "markdown",
   "metadata": {},
   "source": [
    "‘Sikka’ is a money earning app where you can earn cash rewards by completing simple offers daily\n",
    "that give you sikka coins, which you can withdraw to your bank account as real money. You can\n",
    "learn more about this app here Sikka\n",
    "Problem Statement:\n",
    "Users come to this app through different marketing channels. They use the app to complete offers\n",
    "to earn money and we generate revenue in the process. Using the data furnished below, you need\n",
    "to:\n",
    "\n",
    "P1. Calculate the lifetime value (LTV) of the users acquired through different marketing channels"
   ]
  },
  {
   "cell_type": "markdown",
   "metadata": {},
   "source": [
    "Before moving any forward let's just understand what we are having;\n",
    "1. User signup data: This table stores the details of every user coming through different marketing channels on ‘Sikka’\n",
    "app. The key columns of this data set are 'user_id', 'utm_source' and 'created_at'.\n",
    "\n",
    "2. User offer completion data: This table stores the data of the offers completed by any ‘Sikka’ user. Columns of this table are 'user_id', 'offer_id','reward_id' and 'created_id'.\n",
    "\n",
    "3. Rewards details: This table stores the details of every offer-reward that is in the ‘Sikka’ App. Columns of this table are 'offer_id','reward_id',offer_id', 'reward_id', 'label_in_english','total_payout_in_paise' and 'total_revenue_in_paise'."
   ]
  },
  {
   "cell_type": "markdown",
   "metadata": {},
   "source": [
    "In order to calculate the life time value of the customers from different marketing cahnnel we need to have a table that consists of 'utm_source and 'LTV'(i.e. total_revenue_in_paise).\n",
    "\n",
    "Steps involved in the approach are:\n",
    "1. We need to join the User signup data to the offer complition data considering the primary key as 'user_id', So that we can further join the mereged data to the rewards tabel in order to have total revenue column.\n",
    "Code for merging the data:\n",
    "\n",
    "        merged_data1 = signup_data[['user_id','utm_source']].merge(offer_complition_data[['user_id','reward_id']], on ='user_id', how='left')\n",
    "\n",
    "2. Now we are having a tabel that contains 'user_id', 'utm_source' and 'reward_id'. Now we need to have Total revenue column, for that we can join the merged_data1 to Reward details tabel. \n",
    "Code for merging the data:\n",
    " \n",
    "        merged_data2 = merged_data1[['utm_source','reward_id']].merge(reward_det[['reward_id','total_revenue_in_paise']], on = 'reward_id', how='left')\n",
    "\n",
    "3. Now that we have the merged data with 'utm_source','reward_id' and 'total_revenue_in_paise', we will get rid of the unnecessary column, then we will group by the 'utm_source' column to have a clear picture and in addition to that we will be converting the revenue in paise to Rs.\n",
    "Code for the final data:\n",
    " \n",
    "    \n",
    "        final_data = merged_data2[['app_id', 'total_revenue_in_paise']].groupby('app_id').sum('total_revenue_in_paise')\n",
    "        final_data['total_revenue_in_paise'] = final_data['total_revenue_in_paise'].astype(int)\n",
    "        final_data['total_revenue_in_Rs'] = (final_data['total_revenue_in_paise']/100)\n",
    "        final_data.drop(['total_revenue_in_paise'],axis=1)\n",
    "\n",
    "4. Now that we have our customer lifetime value segregated on the basis of marketing cahnnel, we can always plot a chart to have a quick comaprison of which marketing cahnnel is contributing how much to the revnue.\n",
    " Code for plotting the graph:\n",
    " \n",
    "        plt.figure(figsize=(6,4))\n",
    "        sns.barplot(x=final_data.index, y='total_revenue_in_Rs',palette='Set2', data=final_data)\n",
    "        plt.title(\"Offer complitions by users on different apps\", fontsize = 12)\n",
    "        plt.xlabel(\"Marketing channel\",fontsize = 10)\n",
    "        plt.ylabel(\"Total revenue in Rs\",fontsize = 10)\n",
    "        print(final_data)\n",
    "\n",
    "\n",
    "That's all, Now we are having our final data.\n",
    "\n",
    "______________________________________________________________________________________________________________________________________________________________________\n",
    " "
   ]
  },
  {
   "cell_type": "code",
   "execution_count": 892,
   "metadata": {},
   "outputs": [],
   "source": [
    "#Importing necessary libraries to work with\n",
    "import pandas as pd\n",
    "import numpy as np\n",
    "import os\n",
    "import seaborn as sns\n",
    "import matplotlib.pyplot as plt\n",
    "from sklearn.model_selection import train_test_split"
   ]
  },
  {
   "cell_type": "code",
   "execution_count": 893,
   "metadata": {},
   "outputs": [],
   "source": [
    "#Importing the datasets to work with\n",
    "signup_data = pd.read_csv('Q2_users signup.csv')\n",
    "offer_data = pd.read_csv('Q2_User offer data.csv')\n",
    "offer_comp_data = pd.read_csv('Q2_User offer completion data.csv')\n",
    "reward_det = pd.read_csv('Q2_rewards details.csv')\n",
    "sikka = pd.read_csv('Q3_Sikka data.csv')\n",
    "ADX = pd.read_csv('Q4_ADX_Sample_data.csv')"
   ]
  },
  {
   "cell_type": "markdown",
   "metadata": {},
   "source": [
    "P2. ‘Sikka’ is a type of Incent app. There is another similar incent app called ‘Sikka Pro’. You need to\n",
    "find insights from the data for both these apps and tell which app is better of these two.\n",
    "The data points you can consider to find the insights:\n",
    "1. Offer Initiation by users\n",
    "2. Offer Completion by users\n",
    "3. Rewards earned by users\n",
    "4. Revenue generated"
   ]
  },
  {
   "cell_type": "markdown",
   "metadata": {},
   "source": [
    "Now, we need to find out which app is better considering the various data points.\n",
    "Let's start first by preprocessing the data. Steps included are as follows:\n",
    "1. We are having 4 tabels to deal with, now considering the datapoints from which we need to gain insights, the first and second one talks about the ofeer initiation and complition. We will be joing the signup data to offer data in order to get the app id and further have comaparison.\n",
    "\n",
    "2. After that we will be creating columns for recording the initiations and complitions, if the started_at and completed_at date is null the the initiatios and complitions column respectively will return 0 else 1. In this way we will be having the record of offer initiation and complition metric.\n",
    "\n",
    "3. In order to measure the rewards earned by user and revenue generated we need to join the rewards data with offer complition data to get the app_id for comaprisons and as primary key here is the reward_id, we would be able to do that.\n",
    "\n",
    "4. And finally plotting these data points will give us our answer which app is better and why ?"
   ]
  },
  {
   "cell_type": "code",
   "execution_count": 894,
   "metadata": {},
   "outputs": [],
   "source": [
    "#Preprocessing of the data\n",
    "#Left joining offer_data with signup_data on user_id\n",
    "off_sign = offer_data.merge(signup_data, on='user_id', how= 'left')\n",
    "#replacing all the nan value will blanks\n",
    "off_sign = off_sign.replace(np.nan,'',regex=True)\n",
    "#creating columns\n",
    "off_sign['initiations'] = np.where(off_sign['started_at'] == '' ,0,1)\n",
    "off_sign['complitions'] = np.where(off_sign['completed_at'] =='' ,0,1)\n",
    "#Left joining reward_data with offer_comp_data on user_id\n",
    "offc_rew = reward_det.merge(offer_comp_data[['reward_id','app_id']],on='reward_id',how='left')\n",
    "#replacing all the nan value will blanks\n",
    "offc_rew = offc_rew.replace(np.nan,'',regex=True)\n"
   ]
  },
  {
   "cell_type": "code",
   "execution_count": 895,
   "metadata": {},
   "outputs": [
    {
     "name": "stdout",
     "output_type": "stream",
     "text": [
      "           initiations  complitions\n",
      "app_id                             \n",
      "sikka              262           23\n",
      "sikka_pro          237           40\n"
     ]
    },
    {
     "data": {
      "image/png": "[encoded data removed]",
      "text/plain": [
       "<Figure size 600x400 with 1 Axes>"
      ]
     },
     "metadata": {},
     "output_type": "display_data"
    }
   ],
   "source": [
    "#creating a new dataframe from offer and signup joined data and grouping it by app_id to have acorrect picture of offer initiations and complitions.\n",
    "df21= off_sign[['app_id','initiations','complitions']].groupby('app_id').sum(['initiations','complitions'])\n",
    "#Using seaborn to plot the data for initiations\n",
    "plt.figure(figsize=(6,4))\n",
    "sns.barplot(x=df21.index, y='initiations',palette='Set2', data=df21)\n",
    "plt.title(\"Offer initiation by users on different apps\", fontsize = 12)\n",
    "plt.xlabel(\"App\",fontsize = 10)\n",
    "plt.ylabel(\"Offer initiations\",fontsize = 10)\n",
    "print(df21)"
   ]
  },
  {
   "cell_type": "code",
   "execution_count": 896,
   "metadata": {},
   "outputs": [
    {
     "name": "stdout",
     "output_type": "stream",
     "text": [
      "           initiations  complitions\n",
      "app_id                             \n",
      "sikka              262           23\n",
      "sikka_pro          237           40\n"
     ]
    },
    {
     "data": {
      "image/png": "[encoded data removed]",
      "text/plain": [
       "<Figure size 600x400 with 1 Axes>"
      ]
     },
     "metadata": {},
     "output_type": "display_data"
    }
   ],
   "source": [
    "#Using seaborn to plot the data for complitions\n",
    "plt.figure(figsize=(6,4))\n",
    "sns.barplot(x=df21.index, y='complitions',palette='Set2', data=df21)\n",
    "plt.title(\"Offer complitions by users on different apps\", fontsize = 12)\n",
    "plt.xlabel(\"App\",fontsize = 10)\n",
    "plt.ylabel(\"Offer complitions\",fontsize = 10)\n",
    "print(df21)"
   ]
  },
  {
   "cell_type": "code",
   "execution_count": 897,
   "metadata": {},
   "outputs": [
    {
     "name": "stdout",
     "output_type": "stream",
     "text": [
      "           total_payout_in_paise  total_revenue_in_paise\n",
      "app_id                                                  \n",
      "sikka                      18466                   39687\n",
      "sikka_pro                  19618                   40457\n"
     ]
    },
    {
     "data": {
      "image/png": "[encoded data removed]",
      "text/plain": [
       "<Figure size 600x400 with 1 Axes>"
      ]
     },
     "metadata": {},
     "output_type": "display_data"
    }
   ],
   "source": [
    "#creating a new dataframe from rewards and offers and complition joined data and grouping it by app_id to have a correct picture of offer rewards earned by user and revenue genearted.\n",
    "offc_rew = offc_rew[(offc_rew.app_id != \"\")]\n",
    "df22 = offc_rew[['app_id','total_payout_in_paise','total_revenue_in_paise']].groupby('app_id').sum(['total_payout_in_paise','total_revenue_in_paise'])\n",
    "#Using seaborn to plot the data for rewards earned by user\n",
    "plt.figure(figsize=(6,4))\n",
    "sns.barplot(x=df22.index, y='total_payout_in_paise',palette='deep', data=df22)\n",
    "plt.title(\"Rewards earned by user (In paise) on different apps\", fontsize = 12)\n",
    "plt.xlabel(\"App\",fontsize = 10)\n",
    "plt.ylabel(\"Rewards in paise\",fontsize = 10)\n",
    "print(df22)\n"
   ]
  },
  {
   "cell_type": "code",
   "execution_count": 898,
   "metadata": {},
   "outputs": [
    {
     "name": "stdout",
     "output_type": "stream",
     "text": [
      "           total_payout_in_paise  total_revenue_in_paise\n",
      "app_id                                                  \n",
      "sikka                      18466                   39687\n",
      "sikka_pro                  19618                   40457\n"
     ]
    },
    {
     "data": {
      "image/png": "[encoded data removed]",
      "text/plain": [
       "<Figure size 600x400 with 1 Axes>"
      ]
     },
     "metadata": {},
     "output_type": "display_data"
    }
   ],
   "source": [
    "#Using seaborn to plot the data for revenue generated\n",
    "plt.figure(figsize=(6,4))\n",
    "sns.barplot(x=df22.index, y='total_revenue_in_paise',palette='deep', data=df22)\n",
    "plt.title(\"Revenue generated (In paise) on different apps\", fontsize = 12)\n",
    "plt.xlabel(\"App\",fontsize = 10)\n",
    "plt.ylabel(\"Revenue generated in paise\",fontsize = 10)\n",
    "print(df22)"
   ]
  },
  {
   "cell_type": "markdown",
   "metadata": {},
   "source": [
    "From the above comaprisons we can infer that:\n",
    "1. Offer inititations were rougly 10% higher on Sikka app as comapred to the Sikka pro.\n",
    "\n",
    "2. But, the offer complition was higher in Sikka pro by around 43%.\n",
    "\n",
    "3. When we compared the Sikka and sikka pro by rewards earned, in that also Sikka pro is having an edge and was higher by 6%.\n",
    "\n",
    "4. And at last when we compared the revenue generation by both apps in that also Sikka pro was ahead by roughly around 2%.\n",
    "\n",
    "Therefore we can conclude that Sikka pro is better both in terms of rewards for user and reveue. Thus, the company should focus more on having Sikka pro customers as it will lead to the better customer staisfaction and revenue generation.\n",
    "\n",
    "______________________________________________________________________________________________________________________________________________________________________"
   ]
  },
  {
   "cell_type": "markdown",
   "metadata": {},
   "source": [
    "P3. Here you are given the Install numbers, uninstall numbers, daily signups, number of daily active\n",
    "users and number of referrals made of the ‘Sikka’ app for the month of October 2022. Also, the\n",
    "Install numbers, uninstall numbers, daily signups, number of daily active users for the first 15 days\n",
    "of November is given.\n",
    "You need to predict the number of referrals for these 15 days of November"
   ]
  },
  {
   "cell_type": "markdown",
   "metadata": {},
   "source": [
    "\n",
    "Our aim for this problem will be to predict the values for next 15 days, and for that we will be using time series analysis for predicting.\n",
    "By using facebook prophet.\n",
    "\n",
    "The facebook prophet additive regression model takes the form of this expression:\n",
    "* In a nutshell the additive regression model explain the relationship between independent variable i.e X, and dependent variable i.e Y.\n",
    "* What I mean from Independent variable is that if you change this independent variable X, the varibale Y will be predicted according to the change.\n",
    "* And the series of this X function when added up, you lead towards the additive regression model and have a prediction for Y accordingly."
   ]
  },
  {
   "cell_type": "code",
   "execution_count": null,
   "metadata": {},
   "outputs": [],
   "source": []
  },
  {
   "cell_type": "code",
   "execution_count": 899,
   "metadata": {},
   "outputs": [],
   "source": [
    "#Importing prophet for timeseries analysis\n",
    "from prophet.plot import plot_plotly, plot_components_plotly\n",
    "from prophet import Prophet"
   ]
  },
  {
   "cell_type": "code",
   "execution_count": 900,
   "metadata": {},
   "outputs": [
    {
     "data": {
      "text/html": [
       "<div>\n",
       "<style scoped>\n",
       "    .dataframe tbody tr th:only-of-type {\n",
       "        vertical-align: middle;\n",
       "    }\n",
       "\n",
       "    .dataframe tbody tr th {\n",
       "        vertical-align: top;\n",
       "    }\n",
       "\n",
       "    .dataframe thead th {\n",
       "        text-align: right;\n",
       "    }\n",
       "</style>\n",
       "<table border=\"1\" class=\"dataframe\">\n",
       "  <thead>\n",
       "    <tr style=\"text-align: right;\">\n",
       "      <th></th>\n",
       "      <th>DAU</th>\n",
       "      <th>Installs</th>\n",
       "      <th>Uninstalls</th>\n",
       "      <th>Signups</th>\n",
       "      <th>Referrals</th>\n",
       "    </tr>\n",
       "  </thead>\n",
       "  <tbody>\n",
       "    <tr>\n",
       "      <th>count</th>\n",
       "      <td>46.000000</td>\n",
       "      <td>46.000000</td>\n",
       "      <td>46.000000</td>\n",
       "      <td>46.000000</td>\n",
       "      <td>31.000000</td>\n",
       "    </tr>\n",
       "    <tr>\n",
       "      <th>mean</th>\n",
       "      <td>17788.586957</td>\n",
       "      <td>5064.978261</td>\n",
       "      <td>5494.347826</td>\n",
       "      <td>2550.891304</td>\n",
       "      <td>770.161290</td>\n",
       "    </tr>\n",
       "    <tr>\n",
       "      <th>std</th>\n",
       "      <td>4892.080923</td>\n",
       "      <td>1624.796773</td>\n",
       "      <td>1402.885078</td>\n",
       "      <td>991.987348</td>\n",
       "      <td>249.692891</td>\n",
       "    </tr>\n",
       "    <tr>\n",
       "      <th>min</th>\n",
       "      <td>12042.000000</td>\n",
       "      <td>3074.000000</td>\n",
       "      <td>3815.000000</td>\n",
       "      <td>1363.000000</td>\n",
       "      <td>384.000000</td>\n",
       "    </tr>\n",
       "    <tr>\n",
       "      <th>25%</th>\n",
       "      <td>13380.250000</td>\n",
       "      <td>3708.750000</td>\n",
       "      <td>4321.250000</td>\n",
       "      <td>1729.500000</td>\n",
       "      <td>543.500000</td>\n",
       "    </tr>\n",
       "    <tr>\n",
       "      <th>50%</th>\n",
       "      <td>15059.500000</td>\n",
       "      <td>4479.500000</td>\n",
       "      <td>4738.000000</td>\n",
       "      <td>2065.500000</td>\n",
       "      <td>801.000000</td>\n",
       "    </tr>\n",
       "    <tr>\n",
       "      <th>75%</th>\n",
       "      <td>23472.750000</td>\n",
       "      <td>6332.000000</td>\n",
       "      <td>6741.750000</td>\n",
       "      <td>3369.000000</td>\n",
       "      <td>961.000000</td>\n",
       "    </tr>\n",
       "    <tr>\n",
       "      <th>max</th>\n",
       "      <td>25156.000000</td>\n",
       "      <td>8937.000000</td>\n",
       "      <td>8215.000000</td>\n",
       "      <td>4974.000000</td>\n",
       "      <td>1193.000000</td>\n",
       "    </tr>\n",
       "  </tbody>\n",
       "</table>\n",
       "</div>"
      ],
      "text/plain": [
       "                DAU     Installs   Uninstalls      Signups    Referrals\n",
       "count     46.000000    46.000000    46.000000    46.000000    31.000000\n",
       "mean   17788.586957  5064.978261  5494.347826  2550.891304   770.161290\n",
       "std     4892.080923  1624.796773  1402.885078   991.987348   249.692891\n",
       "min    12042.000000  3074.000000  3815.000000  1363.000000   384.000000\n",
       "25%    13380.250000  3708.750000  4321.250000  1729.500000   543.500000\n",
       "50%    15059.500000  4479.500000  4738.000000  2065.500000   801.000000\n",
       "75%    23472.750000  6332.000000  6741.750000  3369.000000   961.000000\n",
       "max    25156.000000  8937.000000  8215.000000  4974.000000  1193.000000"
      ]
     },
     "execution_count": 900,
     "metadata": {},
     "output_type": "execute_result"
    }
   ],
   "source": [
    "#checking for ouliers\n",
    "sikka.describe()"
   ]
  },
  {
   "cell_type": "code",
   "execution_count": 901,
   "metadata": {},
   "outputs": [],
   "source": [
    "#preprocessing of the data\n",
    "sikka['Date']=pd.to_datetime(sikka['Date'], format='%Y-%m-%d')\n",
    "sikka['Day'] = pd.to_datetime(sikka['Date']).dt.day"
   ]
  },
  {
   "cell_type": "code",
   "execution_count": 902,
   "metadata": {},
   "outputs": [
    {
     "data": {
      "text/plain": [
       "Text(0, 0.5, 'Referrals')"
      ]
     },
     "execution_count": 902,
     "metadata": {},
     "output_type": "execute_result"
    },
    {
     "data": {
      "image/png": "[encoded data removed]",
      "text/plain": [
       "<Figure size 1200x400 with 1 Axes>"
      ]
     },
     "metadata": {},
     "output_type": "display_data"
    }
   ],
   "source": [
    "#plotting the graph day wise to observe the trend\n",
    "plt.figure(figsize=(12,4))\n",
    "sns.lineplot(x='Day', y = 'Referrals',palette='Set2', data = sikka)\n",
    "plt.title(\"Day wise referrals\", fontsize = 12)\n",
    "plt.xlabel(\"Date\",fontsize = 10)\n",
    "plt.ylabel(\"Referrals\",fontsize = 10)"
   ]
  },
  {
   "cell_type": "code",
   "execution_count": 903,
   "metadata": {},
   "outputs": [
    {
     "data": {
      "text/plain": [
       "Date          datetime64[ns]\n",
       "DAU                    int64\n",
       "Installs               int64\n",
       "Uninstalls             int64\n",
       "Signups                int64\n",
       "Referrals            float64\n",
       "Day                    int64\n",
       "dtype: object"
      ]
     },
     "execution_count": 903,
     "metadata": {},
     "output_type": "execute_result"
    }
   ],
   "source": [
    "#checking if the data types are in the correct format\n",
    "sikka.dtypes"
   ]
  },
  {
   "cell_type": "code",
   "execution_count": 904,
   "metadata": {},
   "outputs": [
    {
     "data": {
      "text/plain": [
       "Date          datetime64[ns]\n",
       "DAU                    int64\n",
       "Installs               int64\n",
       "Uninstalls             int64\n",
       "Signups                int64\n",
       "Referrals            float64\n",
       "Day                    int64\n",
       "dtype: object"
      ]
     },
     "execution_count": 904,
     "metadata": {},
     "output_type": "execute_result"
    }
   ],
   "source": [
    "#Date was an object, we needed to convert it to the correct format\n",
    "sikka['Date']=pd.to_datetime(sikka['Date'], format='%Y-%m-%d')\n",
    "sikka.dtypes"
   ]
  },
  {
   "cell_type": "code",
   "execution_count": 905,
   "metadata": {},
   "outputs": [],
   "source": [
    "#Creating a feature that would predict the values using facebook prophet\n",
    "def predict(sikka,periods):\n",
    "\n",
    " sikka = sikka[['Date', 'Referrals']].rename(columns = {'Date': 'ds', 'Referrals': 'y'})\n",
    " sikka = sikka.sort_values(by = 'ds')\n",
    " sikka = sikka[:31]\n",
    " model = Prophet()\n",
    " model.fit(sikka)\n",
    " future = model.make_future_dataframe(periods = periods)\n",
    " forecast = model.predict(future)\n",
    "\n",
    " return model,sikka,forecast"
   ]
  },
  {
   "cell_type": "code",
   "execution_count": 906,
   "metadata": {},
   "outputs": [
    {
     "name": "stderr",
     "output_type": "stream",
     "text": [
      "00:11:59 - cmdstanpy - INFO - Chain [1] start processing\n",
      "00:12:00 - cmdstanpy - INFO - Chain [1] done processing\n"
     ]
    }
   ],
   "source": [
    "model,sikka,forecast = predict(sikka,15)"
   ]
  },
  {
   "cell_type": "code",
   "execution_count": 907,
   "metadata": {},
   "outputs": [
    {
     "name": "stdout",
     "output_type": "stream",
     "text": [
      "32    414.316054\n",
      "33    376.067789\n",
      "34    332.077727\n",
      "35    292.157970\n",
      "36    346.511494\n",
      "37    279.328723\n",
      "38    237.587077\n",
      "39    258.801489\n",
      "40    220.553224\n",
      "41    176.563162\n",
      "42    136.643406\n",
      "43    190.996930\n",
      "44    123.814158\n",
      "45     82.072512\n",
      "Name: yhat, dtype: float64\n"
     ]
    },
    {
     "data": {
      "application/vnd.plotly.v1+json": {
       "config": {
        "plotlyServerURL": "https://plot.ly"
       },
       "data": [
        {
         "marker": {
          "color": "black",
          "size": 4
         },
         "mode": "markers",
         "name": "Actual",
         "type": "scatter",
         "x": [
          "2022-10-01T00:00:00",
          "2022-10-02T00:00:00",
          "2022-10-03T00:00:00",
          "2022-10-04T00:00:00",
          "2022-10-05T00:00:00",
          "2022-10-06T00:00:00",
          "2022-10-07T00:00:00",
          "2022-10-08T00:00:00",
          "2022-10-09T00:00:00",
          "2022-10-10T00:00:00",
          "2022-10-11T00:00:00",
          "2022-10-12T00:00:00",
          "2022-10-13T00:00:00",
          "2022-10-14T00:00:00",
          "2022-10-15T00:00:00",
          "2022-10-16T00:00:00",
          "2022-10-17T00:00:00",
          "2022-10-18T00:00:00",
          "2022-10-19T00:00:00",
          "2022-10-20T00:00:00",
          "2022-10-21T00:00:00",
          "2022-10-22T00:00:00",
          "2022-10-23T00:00:00",
          "2022-10-24T00:00:00",
          "2022-10-25T00:00:00",
          "2022-10-26T00:00:00",
          "2022-10-27T00:00:00",
          "2022-10-28T00:00:00",
          "2022-10-29T00:00:00",
          "2022-10-30T00:00:00",
          "2022-10-31T00:00:00"
         ],
         "y": [
          962,
          941,
          940,
          960,
          923,
          822,
          957,
          994,
          1016,
          1186,
          1161,
          1193,
          987,
          860,
          772,
          1052,
          801,
          572,
          606,
          700,
          512,
          530,
          484,
          384,
          435,
          491,
          551,
          555,
          536,
          573,
          419
         ]
        },
        {
         "hoverinfo": "skip",
         "line": {
          "width": 0
         },
         "mode": "lines",
         "type": "scatter",
         "x": [
          "2022-10-01T00:00:00",
          "2022-10-02T00:00:00",
          "2022-10-03T00:00:00",
          "2022-10-04T00:00:00",
          "2022-10-05T00:00:00",
          "2022-10-06T00:00:00",
          "2022-10-07T00:00:00",
          "2022-10-08T00:00:00",
          "2022-10-09T00:00:00",
          "2022-10-10T00:00:00",
          "2022-10-11T00:00:00",
          "2022-10-12T00:00:00",
          "2022-10-13T00:00:00",
          "2022-10-14T00:00:00",
          "2022-10-15T00:00:00",
          "2022-10-16T00:00:00",
          "2022-10-17T00:00:00",
          "2022-10-18T00:00:00",
          "2022-10-19T00:00:00",
          "2022-10-20T00:00:00",
          "2022-10-21T00:00:00",
          "2022-10-22T00:00:00",
          "2022-10-23T00:00:00",
          "2022-10-24T00:00:00",
          "2022-10-25T00:00:00",
          "2022-10-26T00:00:00",
          "2022-10-27T00:00:00",
          "2022-10-28T00:00:00",
          "2022-10-29T00:00:00",
          "2022-10-30T00:00:00",
          "2022-10-31T00:00:00",
          "2022-11-01T00:00:00",
          "2022-11-02T00:00:00",
          "2022-11-03T00:00:00",
          "2022-11-04T00:00:00",
          "2022-11-05T00:00:00",
          "2022-11-06T00:00:00",
          "2022-11-07T00:00:00",
          "2022-11-08T00:00:00",
          "2022-11-09T00:00:00",
          "2022-11-10T00:00:00",
          "2022-11-11T00:00:00",
          "2022-11-12T00:00:00",
          "2022-11-13T00:00:00",
          "2022-11-14T00:00:00",
          "2022-11-15T00:00:00"
         ],
         "y": [
          889.9197537790279,
          946.5339898533845,
          872.9093710399198,
          832.7414299940039,
          850.0692211752893,
          813.8185809646911,
          778.5180603635117,
          740.3983470988891,
          793.4230945058915,
          718.490618156371,
          677.5817141680627,
          703.665514564717,
          675.6803079676135,
          610.2007184386986,
          582.1596424239302,
          629.6147318021541,
          563.9770044783351,
          514.1278072414152,
          541.6575208517421,
          523.1912200642374,
          454.0165057006116,
          422.2402363042702,
          488.3132669470854,
          419.89951915090717,
          365.5304710411344,
          393.018837404238,
          347.03699422602585,
          304.88374452535913,
          250.30125346408482,
          323.54945867390853,
          246.6321533143104,
          213.19474691268803,
          235.69012900431682,
          211.20677605339748,
          153.68190417241277,
          105.33769097913222,
          164.00340313635812,
          91.17271214766711,
          55.42752091923855,
          73.83080575110219,
          34.45325722835643,
          0.6885581246886763,
          -54.43856705074788,
          6.306326954194007,
          -58.200119725442114,
          -98.97438242326041
         ]
        },
        {
         "fill": "tonexty",
         "fillcolor": "rgba(0, 114, 178, 0.2)",
         "line": {
          "color": "#0072B2",
          "width": 2
         },
         "mode": "lines",
         "name": "Predicted",
         "type": "scatter",
         "x": [
          "2022-10-01T00:00:00",
          "2022-10-02T00:00:00",
          "2022-10-03T00:00:00",
          "2022-10-04T00:00:00",
          "2022-10-05T00:00:00",
          "2022-10-06T00:00:00",
          "2022-10-07T00:00:00",
          "2022-10-08T00:00:00",
          "2022-10-09T00:00:00",
          "2022-10-10T00:00:00",
          "2022-10-11T00:00:00",
          "2022-10-12T00:00:00",
          "2022-10-13T00:00:00",
          "2022-10-14T00:00:00",
          "2022-10-15T00:00:00",
          "2022-10-16T00:00:00",
          "2022-10-17T00:00:00",
          "2022-10-18T00:00:00",
          "2022-10-19T00:00:00",
          "2022-10-20T00:00:00",
          "2022-10-21T00:00:00",
          "2022-10-22T00:00:00",
          "2022-10-23T00:00:00",
          "2022-10-24T00:00:00",
          "2022-10-25T00:00:00",
          "2022-10-26T00:00:00",
          "2022-10-27T00:00:00",
          "2022-10-28T00:00:00",
          "2022-10-29T00:00:00",
          "2022-10-30T00:00:00",
          "2022-10-31T00:00:00",
          "2022-11-01T00:00:00",
          "2022-11-02T00:00:00",
          "2022-11-03T00:00:00",
          "2022-11-04T00:00:00",
          "2022-11-05T00:00:00",
          "2022-11-06T00:00:00",
          "2022-11-07T00:00:00",
          "2022-11-08T00:00:00",
          "2022-11-09T00:00:00",
          "2022-11-10T00:00:00",
          "2022-11-11T00:00:00",
          "2022-11-12T00:00:00",
          "2022-11-13T00:00:00",
          "2022-11-14T00:00:00",
          "2022-11-15T00:00:00"
         ],
         "y": [
          1069.7251741045313,
          1124.0800926330676,
          1056.8987147993905,
          1015.1584629492111,
          1036.3742695155252,
          998.1260094843442,
          954.1359521707041,
          914.2162000007579,
          968.5697291640237,
          901.3869619787199,
          859.6453208067107,
          880.8597380064627,
          842.6114779517194,
          798.6214205922695,
          758.7016636661356,
          813.055188094552,
          745.8724161694024,
          704.1307702366066,
          725.3451826955586,
          687.0969178777237,
          643.1068557887007,
          603.187098893287,
          657.540623373014,
          590.3578515081168,
          548.6162056254576,
          569.8306181377237,
          531.5823533804545,
          487.59229132761845,
          447.67253444888354,
          502.0260589244804,
          434.8432870370854,
          393.1016411543637,
          414.31605366675643,
          376.06778890949346,
          332.0777268566871,
          292.1579699780137,
          346.5114944536332,
          279.3287225663605,
          237.5870766835484,
          258.8014891958969,
          220.5532244385326,
          176.56316238572543,
          136.64340550692685,
          190.9969299827859,
          123.81415809543344,
          82.07251221261507
         ]
        },
        {
         "fill": "tonexty",
         "fillcolor": "rgba(0, 114, 178, 0.2)",
         "hoverinfo": "skip",
         "line": {
          "width": 0
         },
         "mode": "lines",
         "type": "scatter",
         "x": [
          "2022-10-01T00:00:00",
          "2022-10-02T00:00:00",
          "2022-10-03T00:00:00",
          "2022-10-04T00:00:00",
          "2022-10-05T00:00:00",
          "2022-10-06T00:00:00",
          "2022-10-07T00:00:00",
          "2022-10-08T00:00:00",
          "2022-10-09T00:00:00",
          "2022-10-10T00:00:00",
          "2022-10-11T00:00:00",
          "2022-10-12T00:00:00",
          "2022-10-13T00:00:00",
          "2022-10-14T00:00:00",
          "2022-10-15T00:00:00",
          "2022-10-16T00:00:00",
          "2022-10-17T00:00:00",
          "2022-10-18T00:00:00",
          "2022-10-19T00:00:00",
          "2022-10-20T00:00:00",
          "2022-10-21T00:00:00",
          "2022-10-22T00:00:00",
          "2022-10-23T00:00:00",
          "2022-10-24T00:00:00",
          "2022-10-25T00:00:00",
          "2022-10-26T00:00:00",
          "2022-10-27T00:00:00",
          "2022-10-28T00:00:00",
          "2022-10-29T00:00:00",
          "2022-10-30T00:00:00",
          "2022-10-31T00:00:00",
          "2022-11-01T00:00:00",
          "2022-11-02T00:00:00",
          "2022-11-03T00:00:00",
          "2022-11-04T00:00:00",
          "2022-11-05T00:00:00",
          "2022-11-06T00:00:00",
          "2022-11-07T00:00:00",
          "2022-11-08T00:00:00",
          "2022-11-09T00:00:00",
          "2022-11-10T00:00:00",
          "2022-11-11T00:00:00",
          "2022-11-12T00:00:00",
          "2022-11-13T00:00:00",
          "2022-11-14T00:00:00",
          "2022-11-15T00:00:00"
         ],
         "y": [
          1254.3257833634684,
          1308.09428741011,
          1243.5878881076655,
          1190.926207720936,
          1212.1434850929252,
          1185.7004642569957,
          1133.0125935773478,
          1099.9080174432834,
          1167.5854480253702,
          1082.1000702311303,
          1046.9797751086662,
          1051.4965745870709,
          1024.777791801524,
          983.6152518575626,
          937.3197129381529,
          993.967371210962,
          922.6166340040736,
          877.3548693166063,
          903.8601395220392,
          878.844559844201,
          833.452519922296,
          784.4170310780764,
          846.8696720466365,
          783.0760596135119,
          731.5795212033584,
          750.7383919764072,
          708.1397659901987,
          683.299313014083,
          631.9745422864011,
          682.3395030702643,
          612.0048485687552,
          581.3186770781334,
          587.8010974030428,
          562.3169932016817,
          519.2027001333405,
          483.3243124459233,
          537.4006677320086,
          459.9442452417876,
          427.1994222590379,
          431.7498938690582,
          413.57032692229234,
          365.7077200515505,
          329.1740855301427,
          368.232308087214,
          317.52640629120094,
          259.8083162320123
         ]
        }
       ],
       "layout": {
        "height": 600,
        "showlegend": false,
        "template": {
         "data": {
          "bar": [
           {
            "error_x": {
             "color": "#2a3f5f"
            },
            "error_y": {
             "color": "#2a3f5f"
            },
            "marker": {
             "line": {
              "color": "#E5ECF6",
              "width": 0.5
             },
             "pattern": {
              "fillmode": "overlay",
              "size": 10,
              "solidity": 0.2
             }
            },
            "type": "bar"
           }
          ],
          "barpolar": [
           {
            "marker": {
             "line": {
              "color": "#E5ECF6",
              "width": 0.5
             },
             "pattern": {
              "fillmode": "overlay",
              "size": 10,
              "solidity": 0.2
             }
            },
            "type": "barpolar"
           }
          ],
          "carpet": [
           {
            "aaxis": {
             "endlinecolor": "#2a3f5f",
             "gridcolor": "white",
             "linecolor": "white",
             "minorgridcolor": "white",
             "startlinecolor": "#2a3f5f"
            },
            "baxis": {
             "endlinecolor": "#2a3f5f",
             "gridcolor": "white",
             "linecolor": "white",
             "minorgridcolor": "white",
             "startlinecolor": "#2a3f5f"
            },
            "type": "carpet"
           }
          ],
          "choropleth": [
           {
            "colorbar": {
             "outlinewidth": 0,
             "ticks": ""
            },
            "type": "choropleth"
           }
          ],
          "contour": [
           {
            "colorbar": {
             "outlinewidth": 0,
             "ticks": ""
            },
            "colorscale": [
             [
              0,
              "#0d0887"
             ],
             [
              0.1111111111111111,
              "#46039f"
             ],
             [
              0.2222222222222222,
              "#7201a8"
             ],
             [
              0.3333333333333333,
              "#9c179e"
             ],
             [
              0.4444444444444444,
              "#bd3786"
             ],
             [
              0.5555555555555556,
              "#d8576b"
             ],
             [
              0.6666666666666666,
              "#ed7953"
             ],
             [
              0.7777777777777778,
              "#fb9f3a"
             ],
             [
              0.8888888888888888,
              "#fdca26"
             ],
             [
              1,
              "#f0f921"
             ]
            ],
            "type": "contour"
           }
          ],
          "contourcarpet": [
           {
            "colorbar": {
             "outlinewidth": 0,
             "ticks": ""
            },
            "type": "contourcarpet"
           }
          ],
          "heatmap": [
           {
            "colorbar": {
             "outlinewidth": 0,
             "ticks": ""
            },
            "colorscale": [
             [
              0,
              "#0d0887"
             ],
             [
              0.1111111111111111,
              "#46039f"
             ],
             [
              0.2222222222222222,
              "#7201a8"
             ],
             [
              0.3333333333333333,
              "#9c179e"
             ],
             [
              0.4444444444444444,
              "#bd3786"
             ],
             [
              0.5555555555555556,
              "#d8576b"
             ],
             [
              0.6666666666666666,
              "#ed7953"
             ],
             [
              0.7777777777777778,
              "#fb9f3a"
             ],
             [
              0.8888888888888888,
              "#fdca26"
             ],
             [
              1,
              "#f0f921"
             ]
            ],
            "type": "heatmap"
           }
          ],
          "heatmapgl": [
           {
            "colorbar": {
             "outlinewidth": 0,
             "ticks": ""
            },
            "colorscale": [
             [
              0,
              "#0d0887"
             ],
             [
              0.1111111111111111,
              "#46039f"
             ],
             [
              0.2222222222222222,
              "#7201a8"
             ],
             [
              0.3333333333333333,
              "#9c179e"
             ],
             [
              0.4444444444444444,
              "#bd3786"
             ],
             [
              0.5555555555555556,
              "#d8576b"
             ],
             [
              0.6666666666666666,
              "#ed7953"
             ],
             [
              0.7777777777777778,
              "#fb9f3a"
             ],
             [
              0.8888888888888888,
              "#fdca26"
             ],
             [
              1,
              "#f0f921"
             ]
            ],
            "type": "heatmapgl"
           }
          ],
          "histogram": [
           {
            "marker": {
             "pattern": {
              "fillmode": "overlay",
              "size": 10,
              "solidity": 0.2
             }
            },
            "type": "histogram"
           }
          ],
          "histogram2d": [
           {
            "colorbar": {
             "outlinewidth": 0,
             "ticks": ""
            },
            "colorscale": [
             [
              0,
              "#0d0887"
             ],
             [
              0.1111111111111111,
              "#46039f"
             ],
             [
              0.2222222222222222,
              "#7201a8"
             ],
             [
              0.3333333333333333,
              "#9c179e"
             ],
             [
              0.4444444444444444,
              "#bd3786"
             ],
             [
              0.5555555555555556,
              "#d8576b"
             ],
             [
              0.6666666666666666,
              "#ed7953"
             ],
             [
              0.7777777777777778,
              "#fb9f3a"
             ],
             [
              0.8888888888888888,
              "#fdca26"
             ],
             [
              1,
              "#f0f921"
             ]
            ],
            "type": "histogram2d"
           }
          ],
          "histogram2dcontour": [
           {
            "colorbar": {
             "outlinewidth": 0,
             "ticks": ""
            },
            "colorscale": [
             [
              0,
              "#0d0887"
             ],
             [
              0.1111111111111111,
              "#46039f"
             ],
             [
              0.2222222222222222,
              "#7201a8"
             ],
             [
              0.3333333333333333,
              "#9c179e"
             ],
             [
              0.4444444444444444,
              "#bd3786"
             ],
             [
              0.5555555555555556,
              "#d8576b"
             ],
             [
              0.6666666666666666,
              "#ed7953"
             ],
             [
              0.7777777777777778,
              "#fb9f3a"
             ],
             [
              0.8888888888888888,
              "#fdca26"
             ],
             [
              1,
              "#f0f921"
             ]
            ],
            "type": "histogram2dcontour"
           }
          ],
          "mesh3d": [
           {
            "colorbar": {
             "outlinewidth": 0,
             "ticks": ""
            },
            "type": "mesh3d"
           }
          ],
          "parcoords": [
           {
            "line": {
             "colorbar": {
              "outlinewidth": 0,
              "ticks": ""
             }
            },
            "type": "parcoords"
           }
          ],
          "pie": [
           {
            "automargin": true,
            "type": "pie"
           }
          ],
          "scatter": [
           {
            "fillpattern": {
             "fillmode": "overlay",
             "size": 10,
             "solidity": 0.2
            },
            "type": "scatter"
           }
          ],
          "scatter3d": [
           {
            "line": {
             "colorbar": {
              "outlinewidth": 0,
              "ticks": ""
             }
            },
            "marker": {
             "colorbar": {
              "outlinewidth": 0,
              "ticks": ""
             }
            },
            "type": "scatter3d"
           }
          ],
          "scattercarpet": [
           {
            "marker": {
             "colorbar": {
              "outlinewidth": 0,
              "ticks": ""
             }
            },
            "type": "scattercarpet"
           }
          ],
          "scattergeo": [
           {
            "marker": {
             "colorbar": {
              "outlinewidth": 0,
              "ticks": ""
             }
            },
            "type": "scattergeo"
           }
          ],
          "scattergl": [
           {
            "marker": {
             "colorbar": {
              "outlinewidth": 0,
              "ticks": ""
             }
            },
            "type": "scattergl"
           }
          ],
          "scattermapbox": [
           {
            "marker": {
             "colorbar": {
              "outlinewidth": 0,
              "ticks": ""
             }
            },
            "type": "scattermapbox"
           }
          ],
          "scatterpolar": [
           {
            "marker": {
             "colorbar": {
              "outlinewidth": 0,
              "ticks": ""
             }
            },
            "type": "scatterpolar"
           }
          ],
          "scatterpolargl": [
           {
            "marker": {
             "colorbar": {
              "outlinewidth": 0,
              "ticks": ""
             }
            },
            "type": "scatterpolargl"
           }
          ],
          "scatterternary": [
           {
            "marker": {
             "colorbar": {
              "outlinewidth": 0,
              "ticks": ""
             }
            },
            "type": "scatterternary"
           }
          ],
          "surface": [
           {
            "colorbar": {
             "outlinewidth": 0,
             "ticks": ""
            },
            "colorscale": [
             [
              0,
              "#0d0887"
             ],
             [
              0.1111111111111111,
              "#46039f"
             ],
             [
              0.2222222222222222,
              "#7201a8"
             ],
             [
              0.3333333333333333,
              "#9c179e"
             ],
             [
              0.4444444444444444,
              "#bd3786"
             ],
             [
              0.5555555555555556,
              "#d8576b"
             ],
             [
              0.6666666666666666,
              "#ed7953"
             ],
             [
              0.7777777777777778,
              "#fb9f3a"
             ],
             [
              0.8888888888888888,
              "#fdca26"
             ],
             [
              1,
              "#f0f921"
             ]
            ],
            "type": "surface"
           }
          ],
          "table": [
           {
            "cells": {
             "fill": {
              "color": "#EBF0F8"
             },
             "line": {
              "color": "white"
             }
            },
            "header": {
             "fill": {
              "color": "#C8D4E3"
             },
             "line": {
              "color": "white"
             }
            },
            "type": "table"
           }
          ]
         },
         "layout": {
          "annotationdefaults": {
           "arrowcolor": "#2a3f5f",
           "arrowhead": 0,
           "arrowwidth": 1
          },
          "autotypenumbers": "strict",
          "coloraxis": {
           "colorbar": {
            "outlinewidth": 0,
            "ticks": ""
           }
          },
          "colorscale": {
           "diverging": [
            [
             0,
             "#8e0152"
            ],
            [
             0.1,
             "#c51b7d"
            ],
            [
             0.2,
             "#de77ae"
            ],
            [
             0.3,
             "#f1b6da"
            ],
            [
             0.4,
             "#fde0ef"
            ],
            [
             0.5,
             "#f7f7f7"
            ],
            [
             0.6,
             "#e6f5d0"
            ],
            [
             0.7,
             "#b8e186"
            ],
            [
             0.8,
             "#7fbc41"
            ],
            [
             0.9,
             "#4d9221"
            ],
            [
             1,
             "#276419"
            ]
           ],
           "sequential": [
            [
             0,
             "#0d0887"
            ],
            [
             0.1111111111111111,
             "#46039f"
            ],
            [
             0.2222222222222222,
             "#7201a8"
            ],
            [
             0.3333333333333333,
             "#9c179e"
            ],
            [
             0.4444444444444444,
             "#bd3786"
            ],
            [
             0.5555555555555556,
             "#d8576b"
            ],
            [
             0.6666666666666666,
             "#ed7953"
            ],
            [
             0.7777777777777778,
             "#fb9f3a"
            ],
            [
             0.8888888888888888,
             "#fdca26"
            ],
            [
             1,
             "#f0f921"
            ]
           ],
           "sequentialminus": [
            [
             0,
             "#0d0887"
            ],
            [
             0.1111111111111111,
             "#46039f"
            ],
            [
             0.2222222222222222,
             "#7201a8"
            ],
            [
             0.3333333333333333,
             "#9c179e"
            ],
            [
             0.4444444444444444,
             "#bd3786"
            ],
            [
             0.5555555555555556,
             "#d8576b"
            ],
            [
             0.6666666666666666,
             "#ed7953"
            ],
            [
             0.7777777777777778,
             "#fb9f3a"
            ],
            [
             0.8888888888888888,
             "#fdca26"
            ],
            [
             1,
             "#f0f921"
            ]
           ]
          },
          "colorway": [
           "#636efa",
           "#EF553B",
           "#00cc96",
           "#ab63fa",
           "#FFA15A",
           "#19d3f3",
           "#FF6692",
           "#B6E880",
           "#FF97FF",
           "#FECB52"
          ],
          "font": {
           "color": "#2a3f5f"
          },
          "geo": {
           "bgcolor": "white",
           "lakecolor": "white",
           "landcolor": "#E5ECF6",
           "showlakes": true,
           "showland": true,
           "subunitcolor": "white"
          },
          "hoverlabel": {
           "align": "left"
          },
          "hovermode": "closest",
          "mapbox": {
           "style": "light"
          },
          "paper_bgcolor": "white",
          "plot_bgcolor": "#E5ECF6",
          "polar": {
           "angularaxis": {
            "gridcolor": "white",
            "linecolor": "white",
            "ticks": ""
           },
           "bgcolor": "#E5ECF6",
           "radialaxis": {
            "gridcolor": "white",
            "linecolor": "white",
            "ticks": ""
           }
          },
          "scene": {
           "xaxis": {
            "backgroundcolor": "#E5ECF6",
            "gridcolor": "white",
            "gridwidth": 2,
            "linecolor": "white",
            "showbackground": true,
            "ticks": "",
            "zerolinecolor": "white"
           },
           "yaxis": {
            "backgroundcolor": "#E5ECF6",
            "gridcolor": "white",
            "gridwidth": 2,
            "linecolor": "white",
            "showbackground": true,
            "ticks": "",
            "zerolinecolor": "white"
           },
           "zaxis": {
            "backgroundcolor": "#E5ECF6",
            "gridcolor": "white",
            "gridwidth": 2,
            "linecolor": "white",
            "showbackground": true,
            "ticks": "",
            "zerolinecolor": "white"
           }
          },
          "shapedefaults": {
           "line": {
            "color": "#2a3f5f"
           }
          },
          "ternary": {
           "aaxis": {
            "gridcolor": "white",
            "linecolor": "white",
            "ticks": ""
           },
           "baxis": {
            "gridcolor": "white",
            "linecolor": "white",
            "ticks": ""
           },
           "bgcolor": "#E5ECF6",
           "caxis": {
            "gridcolor": "white",
            "linecolor": "white",
            "ticks": ""
           }
          },
          "title": {
           "x": 0.05
          },
          "xaxis": {
           "automargin": true,
           "gridcolor": "white",
           "linecolor": "white",
           "ticks": "",
           "title": {
            "standoff": 15
           },
           "zerolinecolor": "white",
           "zerolinewidth": 2
          },
          "yaxis": {
           "automargin": true,
           "gridcolor": "white",
           "linecolor": "white",
           "ticks": "",
           "title": {
            "standoff": 15
           },
           "zerolinecolor": "white",
           "zerolinewidth": 2
          }
         }
        },
        "width": 900,
        "xaxis": {
         "rangeselector": {
          "buttons": [
           {
            "count": 7,
            "label": "1w",
            "step": "day",
            "stepmode": "backward"
           },
           {
            "count": 1,
            "label": "1m",
            "step": "month",
            "stepmode": "backward"
           },
           {
            "count": 6,
            "label": "6m",
            "step": "month",
            "stepmode": "backward"
           },
           {
            "count": 1,
            "label": "1y",
            "step": "year",
            "stepmode": "backward"
           },
           {
            "step": "all"
           }
          ]
         },
         "rangeslider": {
          "visible": true
         },
         "title": {
          "text": "ds"
         },
         "type": "date"
        },
        "yaxis": {
         "title": {
          "text": "y"
         }
        }
       }
      }
     },
     "metadata": {},
     "output_type": "display_data"
    }
   ],
   "source": [
    "#Plotting the predictied data\n",
    "print(forecast['yhat'][32:])\n",
    "plot_plotly(model,forecast)"
   ]
  },
  {
   "cell_type": "markdown",
   "metadata": {},
   "source": [
    "Now here we have predicted the values for next 15 days. And we can clearly observe that the refferals are going down and so on the DAU, Installs and Signups. In order to safeguard from further decrease comapnty should focus on new ways to tap the customers, provide some extra benefits to the users who will refer.\n",
    "______________________________________________________________________________________________________________________________________________________________________"
   ]
  },
  {
   "cell_type": "markdown",
   "metadata": {},
   "source": [
    "ADX is an ad exchange platform for large publishers with significant sales. It supports both Web\n",
    "and mobile apps & game inventories. Through ADX, publishers can sell their ad inventory to\n",
    "advertisers and agencies using real-time bidding technology. AdX provides more efficient usage of\n",
    "ad spaces using real-time auctions.\n",
    "\n",
    "P4. A sample dataset with data for a few apps which uses ADX is given from the month of October.\n",
    "You need to find out if there is any anomaly present in the data for any of the apps present\n",
    "in the sample dataset. The metrics you can look into are the requests, impressions, clicks,\n",
    "revenue, show-rate( impressions/responses ), click-rate (clicks/impressions) or any other feature\n",
    "which you think will be helpful to gain more insight about any anomaly."
   ]
  },
  {
   "cell_type": "markdown",
   "metadata": {},
   "source": [
    "The aim of this analysis will be identify the anomaly present in the dataset.\n",
    "Procedure that we will be following are:\n",
    "1. Getting know about the data like about its shape, how does the data look like, what are the column present, identifying the null values if there are any and more.\n",
    "\n",
    "2. After that we will be adding some column to have better picture of the data.\n",
    "\n",
    "3. Next we will be plotting graph on the basis of apps to see which app's data is having the outlier.\n",
    "\n",
    "4. Then, we will be focusing on the app that are having outliers and will generate z score for every feature and get the exact outliers,"
   ]
  },
  {
   "cell_type": "code",
   "execution_count": 908,
   "metadata": {},
   "outputs": [
    {
     "data": {
      "text/html": [
       "<div>\n",
       "<style scoped>\n",
       "    .dataframe tbody tr th:only-of-type {\n",
       "        vertical-align: middle;\n",
       "    }\n",
       "\n",
       "    .dataframe tbody tr th {\n",
       "        vertical-align: top;\n",
       "    }\n",
       "\n",
       "    .dataframe thead th {\n",
       "        text-align: right;\n",
       "    }\n",
       "</style>\n",
       "<table border=\"1\" class=\"dataframe\">\n",
       "  <thead>\n",
       "    <tr style=\"text-align: right;\">\n",
       "      <th></th>\n",
       "      <th>date</th>\n",
       "      <th>pub_id</th>\n",
       "      <th>app_id</th>\n",
       "      <th>ad_unit_code</th>\n",
       "      <th>country</th>\n",
       "      <th>requests</th>\n",
       "      <th>ae_responses</th>\n",
       "      <th>ae_impressions</th>\n",
       "      <th>ae_clicks</th>\n",
       "      <th>ae_revenue</th>\n",
       "    </tr>\n",
       "  </thead>\n",
       "  <tbody>\n",
       "    <tr>\n",
       "      <th>0</th>\n",
       "      <td>2022-10-20</td>\n",
       "      <td>1987</td>\n",
       "      <td>16243270</td>\n",
       "      <td>22832846443</td>\n",
       "      <td>Tanzania</td>\n",
       "      <td>36</td>\n",
       "      <td>36</td>\n",
       "      <td>34</td>\n",
       "      <td>0</td>\n",
       "      <td>0.035738</td>\n",
       "    </tr>\n",
       "    <tr>\n",
       "      <th>1</th>\n",
       "      <td>2022-10-20</td>\n",
       "      <td>1987</td>\n",
       "      <td>16243270</td>\n",
       "      <td>22832846593</td>\n",
       "      <td>Tanzania</td>\n",
       "      <td>24</td>\n",
       "      <td>24</td>\n",
       "      <td>23</td>\n",
       "      <td>0</td>\n",
       "      <td>0.064384</td>\n",
       "    </tr>\n",
       "    <tr>\n",
       "      <th>2</th>\n",
       "      <td>2022-10-20</td>\n",
       "      <td>1987</td>\n",
       "      <td>16243270</td>\n",
       "      <td>22832846443</td>\n",
       "      <td>Thailand</td>\n",
       "      <td>949</td>\n",
       "      <td>949</td>\n",
       "      <td>876</td>\n",
       "      <td>20</td>\n",
       "      <td>4.943878</td>\n",
       "    </tr>\n",
       "    <tr>\n",
       "      <th>3</th>\n",
       "      <td>2022-10-20</td>\n",
       "      <td>1987</td>\n",
       "      <td>16243270</td>\n",
       "      <td>22832846593</td>\n",
       "      <td>Thailand</td>\n",
       "      <td>1006</td>\n",
       "      <td>907</td>\n",
       "      <td>688</td>\n",
       "      <td>134</td>\n",
       "      <td>24.226836</td>\n",
       "    </tr>\n",
       "    <tr>\n",
       "      <th>4</th>\n",
       "      <td>2022-10-20</td>\n",
       "      <td>1987</td>\n",
       "      <td>16243270</td>\n",
       "      <td>22832827729</td>\n",
       "      <td>Thailand</td>\n",
       "      <td>373</td>\n",
       "      <td>287</td>\n",
       "      <td>156</td>\n",
       "      <td>20</td>\n",
       "      <td>2.759392</td>\n",
       "    </tr>\n",
       "  </tbody>\n",
       "</table>\n",
       "</div>"
      ],
      "text/plain": [
       "         date  pub_id    app_id  ad_unit_code   country  requests  \\\n",
       "0  2022-10-20    1987  16243270   22832846443  Tanzania        36   \n",
       "1  2022-10-20    1987  16243270   22832846593  Tanzania        24   \n",
       "2  2022-10-20    1987  16243270   22832846443  Thailand       949   \n",
       "3  2022-10-20    1987  16243270   22832846593  Thailand      1006   \n",
       "4  2022-10-20    1987  16243270   22832827729  Thailand       373   \n",
       "\n",
       "   ae_responses  ae_impressions  ae_clicks  ae_revenue  \n",
       "0            36              34          0    0.035738  \n",
       "1            24              23          0    0.064384  \n",
       "2           949             876         20    4.943878  \n",
       "3           907             688        134   24.226836  \n",
       "4           287             156         20    2.759392  "
      ]
     },
     "execution_count": 908,
     "metadata": {},
     "output_type": "execute_result"
    }
   ],
   "source": [
    "#getting a brief about the data\n",
    "ADX.head()"
   ]
  },
  {
   "cell_type": "code",
   "execution_count": 909,
   "metadata": {},
   "outputs": [
    {
     "data": {
      "text/plain": [
       "(47935, 10)"
      ]
     },
     "execution_count": 909,
     "metadata": {},
     "output_type": "execute_result"
    }
   ],
   "source": [
    "#finding out the shape of the data\n",
    "ADX.shape"
   ]
  },
  {
   "cell_type": "code",
   "execution_count": 910,
   "metadata": {},
   "outputs": [
    {
     "data": {
      "text/html": [
       "<div>\n",
       "<style scoped>\n",
       "    .dataframe tbody tr th:only-of-type {\n",
       "        vertical-align: middle;\n",
       "    }\n",
       "\n",
       "    .dataframe tbody tr th {\n",
       "        vertical-align: top;\n",
       "    }\n",
       "\n",
       "    .dataframe thead th {\n",
       "        text-align: right;\n",
       "    }\n",
       "</style>\n",
       "<table border=\"1\" class=\"dataframe\">\n",
       "  <thead>\n",
       "    <tr style=\"text-align: right;\">\n",
       "      <th></th>\n",
       "      <th>pub_id</th>\n",
       "      <th>app_id</th>\n",
       "      <th>ad_unit_code</th>\n",
       "      <th>requests</th>\n",
       "      <th>ae_responses</th>\n",
       "      <th>ae_impressions</th>\n",
       "      <th>ae_clicks</th>\n",
       "      <th>ae_revenue</th>\n",
       "    </tr>\n",
       "  </thead>\n",
       "  <tbody>\n",
       "    <tr>\n",
       "      <th>count</th>\n",
       "      <td>47935.000000</td>\n",
       "      <td>4.793500e+04</td>\n",
       "      <td>4.793500e+04</td>\n",
       "      <td>47935.000000</td>\n",
       "      <td>47935.000000</td>\n",
       "      <td>47935.000000</td>\n",
       "      <td>47935.000000</td>\n",
       "      <td>47935.000000</td>\n",
       "    </tr>\n",
       "    <tr>\n",
       "      <th>mean</th>\n",
       "      <td>413.188213</td>\n",
       "      <td>5.015577e+07</td>\n",
       "      <td>2.268402e+10</td>\n",
       "      <td>585.827808</td>\n",
       "      <td>516.918202</td>\n",
       "      <td>257.055137</td>\n",
       "      <td>13.502514</td>\n",
       "      <td>2.098320</td>\n",
       "    </tr>\n",
       "    <tr>\n",
       "      <th>std</th>\n",
       "      <td>893.645657</td>\n",
       "      <td>2.465772e+07</td>\n",
       "      <td>1.215869e+08</td>\n",
       "      <td>3024.686475</td>\n",
       "      <td>2579.695718</td>\n",
       "      <td>1294.313552</td>\n",
       "      <td>73.922916</td>\n",
       "      <td>27.784254</td>\n",
       "    </tr>\n",
       "    <tr>\n",
       "      <th>min</th>\n",
       "      <td>14.000000</td>\n",
       "      <td>1.624327e+07</td>\n",
       "      <td>2.247747e+10</td>\n",
       "      <td>16.000000</td>\n",
       "      <td>16.000000</td>\n",
       "      <td>16.000000</td>\n",
       "      <td>0.000000</td>\n",
       "      <td>0.000111</td>\n",
       "    </tr>\n",
       "    <tr>\n",
       "      <th>25%</th>\n",
       "      <td>14.000000</td>\n",
       "      <td>2.559680e+07</td>\n",
       "      <td>2.252151e+10</td>\n",
       "      <td>50.000000</td>\n",
       "      <td>47.000000</td>\n",
       "      <td>27.000000</td>\n",
       "      <td>0.000000</td>\n",
       "      <td>0.026047</td>\n",
       "    </tr>\n",
       "    <tr>\n",
       "      <th>50%</th>\n",
       "      <td>51.000000</td>\n",
       "      <td>4.786228e+07</td>\n",
       "      <td>2.275208e+10</td>\n",
       "      <td>109.000000</td>\n",
       "      <td>100.000000</td>\n",
       "      <td>52.000000</td>\n",
       "      <td>2.000000</td>\n",
       "      <td>0.112968</td>\n",
       "    </tr>\n",
       "    <tr>\n",
       "      <th>75%</th>\n",
       "      <td>72.000000</td>\n",
       "      <td>4.786228e+07</td>\n",
       "      <td>2.277034e+10</td>\n",
       "      <td>300.000000</td>\n",
       "      <td>275.000000</td>\n",
       "      <td>140.000000</td>\n",
       "      <td>7.000000</td>\n",
       "      <td>0.537878</td>\n",
       "    </tr>\n",
       "    <tr>\n",
       "      <th>max</th>\n",
       "      <td>2808.000000</td>\n",
       "      <td>9.567477e+07</td>\n",
       "      <td>2.283576e+10</td>\n",
       "      <td>156435.000000</td>\n",
       "      <td>156296.000000</td>\n",
       "      <td>69448.000000</td>\n",
       "      <td>6853.000000</td>\n",
       "      <td>2137.181915</td>\n",
       "    </tr>\n",
       "  </tbody>\n",
       "</table>\n",
       "</div>"
      ],
      "text/plain": [
       "             pub_id        app_id  ad_unit_code       requests   ae_responses  \\\n",
       "count  47935.000000  4.793500e+04  4.793500e+04   47935.000000   47935.000000   \n",
       "mean     413.188213  5.015577e+07  2.268402e+10     585.827808     516.918202   \n",
       "std      893.645657  2.465772e+07  1.215869e+08    3024.686475    2579.695718   \n",
       "min       14.000000  1.624327e+07  2.247747e+10      16.000000      16.000000   \n",
       "25%       14.000000  2.559680e+07  2.252151e+10      50.000000      47.000000   \n",
       "50%       51.000000  4.786228e+07  2.275208e+10     109.000000     100.000000   \n",
       "75%       72.000000  4.786228e+07  2.277034e+10     300.000000     275.000000   \n",
       "max     2808.000000  9.567477e+07  2.283576e+10  156435.000000  156296.000000   \n",
       "\n",
       "       ae_impressions     ae_clicks    ae_revenue  \n",
       "count    47935.000000  47935.000000  47935.000000  \n",
       "mean       257.055137     13.502514      2.098320  \n",
       "std       1294.313552     73.922916     27.784254  \n",
       "min         16.000000      0.000000      0.000111  \n",
       "25%         27.000000      0.000000      0.026047  \n",
       "50%         52.000000      2.000000      0.112968  \n",
       "75%        140.000000      7.000000      0.537878  \n",
       "max      69448.000000   6853.000000   2137.181915  "
      ]
     },
     "execution_count": 910,
     "metadata": {},
     "output_type": "execute_result"
    }
   ],
   "source": [
    "#Checking if there are any null values and presence of any outlier.\n",
    "ADX.describe()"
   ]
  },
  {
   "cell_type": "markdown",
   "metadata": {},
   "source": [
    "From the above statistical report we can clearly see that that standard deviation of 'requests',\t'ae_responses',\t'ae_impressions', 'ae_clicks' and 'ae_revenue' column are very high as comapred to the mean of these columns. This signifies two cases either most of the data present in these columns are very far from the mean or there are some extreme outliers that are responsilble for this. Let's dig deeper into this and see what is the case."
   ]
  },
  {
   "cell_type": "code",
   "execution_count": 911,
   "metadata": {},
   "outputs": [],
   "source": [
    "#adding columns for Show and click rate in the data\n",
    "ADX['show_rate'] = ADX['ae_impressions']/ADX['ae_responses']\n",
    "ADX['click_rate'] = ADX['ae_clicks']/ADX['ae_impressions']"
   ]
  },
  {
   "cell_type": "code",
   "execution_count": 912,
   "metadata": {},
   "outputs": [],
   "source": [
    "# Creating a new data frame and Grouping by the app id to further plot the whole dataset for infering the highest revenue generation app\n",
    "df = ADX[['app_id','ae_revenue']].groupby('app_id').sum('ae_revenue').sort_values(by='ae_revenue',ascending=False)"
   ]
  },
  {
   "cell_type": "code",
   "execution_count": 913,
   "metadata": {},
   "outputs": [
    {
     "name": "stdout",
     "output_type": "stream",
     "text": [
      "            ae_revenue\n",
      "app_id                \n",
      "22693095  51191.627809\n",
      "40931528  21900.482256\n",
      "43840611   5373.715967\n",
      "16243270   4245.317619\n",
      "25596802   4077.663850\n",
      "63338696   3269.125146\n",
      "47862278   3191.668051\n",
      "95674771   2868.401602\n",
      "84650721   2387.244188\n",
      "66981243   2077.719197\n"
     ]
    },
    {
     "data": {
      "image/png": "[encoded data removed]",
      "text/plain": [
       "<Figure size 1000x400 with 1 Axes>"
      ]
     },
     "metadata": {},
     "output_type": "display_data"
    }
   ],
   "source": [
    "#Now that we have added columns and grouped the data, let's understand which app is contributing how much to the revenue by plotting it\n",
    "plt.figure(figsize=(10,4))\n",
    "sns.barplot(x=df.index, y='ae_revenue', data= df)\n",
    "plt.title(\"Revenue generated by different apps\", fontsize = 12)\n",
    "plt.xlabel(\"App\",fontsize = 10)\n",
    "plt.ylabel(\"Revenue\",fontsize = 10)\n",
    "print(df)"
   ]
  },
  {
   "cell_type": "markdown",
   "metadata": {},
   "source": [
    "What we can infer from this graph is that for the app id '22693095' and '40931528' the revenue is abnormally high.\n",
    "Now we will be creating specific dataframe for these app ids and we will be detecting the anomalies thatare causing this."
   ]
  },
  {
   "cell_type": "code",
   "execution_count": 914,
   "metadata": {},
   "outputs": [],
   "source": [
    "#creating dataframes for the abnormally high revenue generating apps\n",
    "app_1 = ADX[(ADX.app_id == 22693095)]\n",
    "app_2 = ADX[(ADX.app_id == 40931528)]"
   ]
  },
  {
   "cell_type": "code",
   "execution_count": 915,
   "metadata": {},
   "outputs": [],
   "source": [
    "#droping the unnecessary columns\n",
    "app_1 = app_1.drop(['date', 'pub_id', 'ad_unit_code'],axis = 1)\n",
    "app_2 = app_2.drop(['date', 'pub_id', 'ad_unit_code'],axis = 1)"
   ]
  },
  {
   "cell_type": "code",
   "execution_count": 916,
   "metadata": {},
   "outputs": [],
   "source": [
    "#grouping by both of the data by country that will help us undertand in which country the revenue got abnormally high \n",
    "app_1 = app_1.groupby(['app_id', 'country']).sum('ae_revenue')\n",
    "app_2 = app_2.groupby(['app_id', 'country']).sum('ae_revenue')"
   ]
  },
  {
   "cell_type": "markdown",
   "metadata": {},
   "source": [
    "Now, let's just the plot these metrics on the scatter plot and observe the ouliers in the data. \n",
    "Plots for the app_1 data:"
   ]
  },
  {
   "cell_type": "code",
   "execution_count": 917,
   "metadata": {},
   "outputs": [
    {
     "data": {
      "text/plain": [
       "<AxesSubplot:xlabel='ae_revenue', ylabel='ae_impressions'>"
      ]
     },
     "execution_count": 917,
     "metadata": {},
     "output_type": "execute_result"
    },
    {
     "data": {
      "image/png": "[encoded data removed]",
      "text/plain": [
       "<Figure size 640x480 with 1 Axes>"
      ]
     },
     "metadata": {},
     "output_type": "display_data"
    }
   ],
   "source": [
    "#Using seaborn to plot for the app_1 data\n",
    "sns.scatterplot(x='ae_revenue', y='ae_impressions', data=app_1)"
   ]
  },
  {
   "cell_type": "code",
   "execution_count": 918,
   "metadata": {},
   "outputs": [
    {
     "data": {
      "text/plain": [
       "<AxesSubplot:xlabel='ae_revenue', ylabel='requests'>"
      ]
     },
     "execution_count": 918,
     "metadata": {},
     "output_type": "execute_result"
    },
    {
     "data": {
      "image/png": "[encoded data removed]",
      "text/plain": [
       "<Figure size 640x480 with 1 Axes>"
      ]
     },
     "metadata": {},
     "output_type": "display_data"
    }
   ],
   "source": [
    "sns.scatterplot(x='ae_revenue', y='requests', data=app_1)"
   ]
  },
  {
   "cell_type": "code",
   "execution_count": 919,
   "metadata": {},
   "outputs": [
    {
     "data": {
      "text/plain": [
       "<AxesSubplot:xlabel='ae_revenue', ylabel='ae_responses'>"
      ]
     },
     "execution_count": 919,
     "metadata": {},
     "output_type": "execute_result"
    },
    {
     "data": {
      "image/png": "[encoded data removed]",
      "text/plain": [
       "<Figure size 640x480 with 1 Axes>"
      ]
     },
     "metadata": {},
     "output_type": "display_data"
    }
   ],
   "source": [
    "sns.scatterplot(x='ae_revenue', y='ae_responses', data=app_1)"
   ]
  },
  {
   "cell_type": "code",
   "execution_count": 920,
   "metadata": {},
   "outputs": [
    {
     "data": {
      "text/plain": [
       "<AxesSubplot:xlabel='ae_revenue', ylabel='ae_clicks'>"
      ]
     },
     "execution_count": 920,
     "metadata": {},
     "output_type": "execute_result"
    },
    {
     "data": {
      "image/png": "[encoded data removed]",
      "text/plain": [
       "<Figure size 640x480 with 1 Axes>"
      ]
     },
     "metadata": {},
     "output_type": "display_data"
    }
   ],
   "source": [
    "sns.scatterplot(x='ae_revenue', y='ae_clicks', data=app_1)"
   ]
  },
  {
   "cell_type": "markdown",
   "metadata": {},
   "source": [
    "Plots for the app_2 data:"
   ]
  },
  {
   "cell_type": "code",
   "execution_count": 921,
   "metadata": {},
   "outputs": [
    {
     "data": {
      "text/plain": [
       "<AxesSubplot:xlabel='ae_revenue', ylabel='requests'>"
      ]
     },
     "execution_count": 921,
     "metadata": {},
     "output_type": "execute_result"
    },
    {
     "data": {
      "image/png": "[encoded data removed]",
      "text/plain": [
       "<Figure size 640x480 with 1 Axes>"
      ]
     },
     "metadata": {},
     "output_type": "display_data"
    }
   ],
   "source": [
    "#Using seaborn to plot for the app_2 data\n",
    "sns.scatterplot(x='ae_revenue', y='requests', data=app_2)"
   ]
  },
  {
   "cell_type": "code",
   "execution_count": 922,
   "metadata": {},
   "outputs": [
    {
     "data": {
      "text/plain": [
       "<AxesSubplot:xlabel='ae_revenue', ylabel='ae_responses'>"
      ]
     },
     "execution_count": 922,
     "metadata": {},
     "output_type": "execute_result"
    },
    {
     "data": {
      "image/png": "[encoded data removed]",
      "text/plain": [
       "<Figure size 640x480 with 1 Axes>"
      ]
     },
     "metadata": {},
     "output_type": "display_data"
    }
   ],
   "source": [
    "sns.scatterplot(x='ae_revenue', y='ae_responses', data=app_2)"
   ]
  },
  {
   "cell_type": "code",
   "execution_count": 923,
   "metadata": {},
   "outputs": [
    {
     "data": {
      "text/plain": [
       "<AxesSubplot:xlabel='ae_revenue', ylabel='ae_impressions'>"
      ]
     },
     "execution_count": 923,
     "metadata": {},
     "output_type": "execute_result"
    },
    {
     "data": {
      "image/png": "[encoded data removed]",
      "text/plain": [
       "<Figure size 640x480 with 1 Axes>"
      ]
     },
     "metadata": {},
     "output_type": "display_data"
    }
   ],
   "source": [
    "sns.scatterplot(x='ae_revenue', y='ae_impressions', data=app_2)"
   ]
  },
  {
   "cell_type": "code",
   "execution_count": 924,
   "metadata": {},
   "outputs": [
    {
     "data": {
      "text/plain": [
       "<AxesSubplot:xlabel='ae_revenue', ylabel='ae_clicks'>"
      ]
     },
     "execution_count": 924,
     "metadata": {},
     "output_type": "execute_result"
    },
    {
     "data": {
      "image/png": "[encoded data removed]",
      "text/plain": [
       "<Figure size 640x480 with 1 Axes>"
      ]
     },
     "metadata": {},
     "output_type": "display_data"
    }
   ],
   "source": [
    "sns.scatterplot(x='ae_revenue', y='ae_clicks', data=app_2)"
   ]
  },
  {
   "cell_type": "markdown",
   "metadata": {},
   "source": [
    "After plotting all the graphs we clearly see that in every of the metrics of both app there is an outllier that is far from the distribution.\n",
    "The revenue is abnoramlly high with respect to the requests, impressions, clicks and responses."
   ]
  },
  {
   "cell_type": "markdown",
   "metadata": {},
   "source": [
    "Now, our next step involves finding the exact anomalies in the data.\n",
    "And for that we are going to calculate the z_score. \n",
    "1. Let's first know what is z_score with an example: Lets say there is an array of number till 10, for these 10 numbers z score will be calculated by \n",
    "Substracting calculated mean of the data from the items in array then dividing the whole by the standard deviation of the data and then the z score is generated.\n",
    "Through the Z score we can judge the values if it is away from the mean(Positively or negatively) or not. Generally if the z score is greater than 3 or less then -3. that value is considered as an outlier. \n",
    "\n",
    "2. We will be creating a for loop that generates the z_score for all the columns present in the data set of both apps.\n",
    "\n",
    "3. Then we will creating dataframes for the outliers."
   ]
  },
  {
   "cell_type": "code",
   "execution_count": 925,
   "metadata": {},
   "outputs": [],
   "source": [
    "#for loop to generate the zscore for app1\n",
    "for col in app_1.columns:\n",
    "    col_zscore = col + '_zscore'\n",
    "    app_1[col_zscore] = (app_1[col]-app_1[col].mean())/app_1[col].std(ddof=0)"
   ]
  },
  {
   "cell_type": "code",
   "execution_count": 926,
   "metadata": {},
   "outputs": [
    {
     "data": {
      "text/html": [
       "<div>\n",
       "<style scoped>\n",
       "    .dataframe tbody tr th:only-of-type {\n",
       "        vertical-align: middle;\n",
       "    }\n",
       "\n",
       "    .dataframe tbody tr th {\n",
       "        vertical-align: top;\n",
       "    }\n",
       "\n",
       "    .dataframe thead th {\n",
       "        text-align: right;\n",
       "    }\n",
       "</style>\n",
       "<table border=\"1\" class=\"dataframe\">\n",
       "  <thead>\n",
       "    <tr style=\"text-align: right;\">\n",
       "      <th></th>\n",
       "      <th></th>\n",
       "      <th>requests</th>\n",
       "      <th>ae_responses</th>\n",
       "      <th>ae_impressions</th>\n",
       "      <th>ae_clicks</th>\n",
       "      <th>ae_revenue</th>\n",
       "      <th>show_rate</th>\n",
       "      <th>click_rate</th>\n",
       "      <th>requests_zscore</th>\n",
       "      <th>ae_responses_zscore</th>\n",
       "      <th>ae_impressions_zscore</th>\n",
       "      <th>ae_clicks_zscore</th>\n",
       "      <th>ae_revenue_zscore</th>\n",
       "      <th>show_rate_zscore</th>\n",
       "      <th>click_rate_zscore</th>\n",
       "    </tr>\n",
       "    <tr>\n",
       "      <th>app_id</th>\n",
       "      <th>country</th>\n",
       "      <th></th>\n",
       "      <th></th>\n",
       "      <th></th>\n",
       "      <th></th>\n",
       "      <th></th>\n",
       "      <th></th>\n",
       "      <th></th>\n",
       "      <th></th>\n",
       "      <th></th>\n",
       "      <th></th>\n",
       "      <th></th>\n",
       "      <th></th>\n",
       "      <th></th>\n",
       "      <th></th>\n",
       "    </tr>\n",
       "  </thead>\n",
       "  <tbody>\n",
       "    <tr>\n",
       "      <th rowspan=\"11\" valign=\"top\">22693095</th>\n",
       "      <th>Afghanistan</th>\n",
       "      <td>571</td>\n",
       "      <td>495</td>\n",
       "      <td>196</td>\n",
       "      <td>17</td>\n",
       "      <td>0.345175</td>\n",
       "      <td>4.172300</td>\n",
       "      <td>0.856984</td>\n",
       "      <td>-0.396519</td>\n",
       "      <td>-0.401922</td>\n",
       "      <td>-0.441164</td>\n",
       "      <td>-0.447700</td>\n",
       "      <td>-0.152346</td>\n",
       "      <td>-1.321816</td>\n",
       "      <td>-1.293707</td>\n",
       "    </tr>\n",
       "    <tr>\n",
       "      <th>Albania</th>\n",
       "      <td>36969</td>\n",
       "      <td>35439</td>\n",
       "      <td>12951</td>\n",
       "      <td>1460</td>\n",
       "      <td>52.230963</td>\n",
       "      <td>31.644676</td>\n",
       "      <td>7.785241</td>\n",
       "      <td>-0.113079</td>\n",
       "      <td>-0.100558</td>\n",
       "      <td>-0.116804</td>\n",
       "      <td>-0.083284</td>\n",
       "      <td>-0.121403</td>\n",
       "      <td>0.271724</td>\n",
       "      <td>0.321008</td>\n",
       "    </tr>\n",
       "    <tr>\n",
       "      <th>Algeria</th>\n",
       "      <td>40754</td>\n",
       "      <td>35030</td>\n",
       "      <td>14247</td>\n",
       "      <td>973</td>\n",
       "      <td>17.112385</td>\n",
       "      <td>43.477553</td>\n",
       "      <td>6.497883</td>\n",
       "      <td>-0.083604</td>\n",
       "      <td>-0.104085</td>\n",
       "      <td>-0.083847</td>\n",
       "      <td>-0.206271</td>\n",
       "      <td>-0.142346</td>\n",
       "      <td>0.958092</td>\n",
       "      <td>0.020974</td>\n",
       "    </tr>\n",
       "    <tr>\n",
       "      <th>Andorra</th>\n",
       "      <td>78</td>\n",
       "      <td>78</td>\n",
       "      <td>40</td>\n",
       "      <td>13</td>\n",
       "      <td>1.351628</td>\n",
       "      <td>1.040761</td>\n",
       "      <td>0.681818</td>\n",
       "      <td>-0.400359</td>\n",
       "      <td>-0.405519</td>\n",
       "      <td>-0.445131</td>\n",
       "      <td>-0.448710</td>\n",
       "      <td>-0.151745</td>\n",
       "      <td>-1.503462</td>\n",
       "      <td>-1.334532</td>\n",
       "    </tr>\n",
       "    <tr>\n",
       "      <th>Angola</th>\n",
       "      <td>37392</td>\n",
       "      <td>33461</td>\n",
       "      <td>11820</td>\n",
       "      <td>1516</td>\n",
       "      <td>47.706650</td>\n",
       "      <td>33.276280</td>\n",
       "      <td>10.249056</td>\n",
       "      <td>-0.109785</td>\n",
       "      <td>-0.117617</td>\n",
       "      <td>-0.145565</td>\n",
       "      <td>-0.069142</td>\n",
       "      <td>-0.124101</td>\n",
       "      <td>0.366365</td>\n",
       "      <td>0.895230</td>\n",
       "    </tr>\n",
       "    <tr>\n",
       "      <th>...</th>\n",
       "      <td>...</td>\n",
       "      <td>...</td>\n",
       "      <td>...</td>\n",
       "      <td>...</td>\n",
       "      <td>...</td>\n",
       "      <td>...</td>\n",
       "      <td>...</td>\n",
       "      <td>...</td>\n",
       "      <td>...</td>\n",
       "      <td>...</td>\n",
       "      <td>...</td>\n",
       "      <td>...</td>\n",
       "      <td>...</td>\n",
       "      <td>...</td>\n",
       "    </tr>\n",
       "    <tr>\n",
       "      <th>Vietnam</th>\n",
       "      <td>59608</td>\n",
       "      <td>56879</td>\n",
       "      <td>22940</td>\n",
       "      <td>1836</td>\n",
       "      <td>153.861943</td>\n",
       "      <td>43.499355</td>\n",
       "      <td>7.168897</td>\n",
       "      <td>0.063217</td>\n",
       "      <td>0.084345</td>\n",
       "      <td>0.137217</td>\n",
       "      <td>0.011671</td>\n",
       "      <td>-0.060795</td>\n",
       "      <td>0.959356</td>\n",
       "      <td>0.177361</td>\n",
       "    </tr>\n",
       "    <tr>\n",
       "      <th>Western Sahara</th>\n",
       "      <td>906</td>\n",
       "      <td>893</td>\n",
       "      <td>410</td>\n",
       "      <td>33</td>\n",
       "      <td>0.736768</td>\n",
       "      <td>7.885361</td>\n",
       "      <td>1.410989</td>\n",
       "      <td>-0.393911</td>\n",
       "      <td>-0.398490</td>\n",
       "      <td>-0.435722</td>\n",
       "      <td>-0.443659</td>\n",
       "      <td>-0.152112</td>\n",
       "      <td>-1.106439</td>\n",
       "      <td>-1.164590</td>\n",
       "    </tr>\n",
       "    <tr>\n",
       "      <th>Yemen</th>\n",
       "      <td>237</td>\n",
       "      <td>235</td>\n",
       "      <td>153</td>\n",
       "      <td>10</td>\n",
       "      <td>0.072625</td>\n",
       "      <td>3.882742</td>\n",
       "      <td>0.499272</td>\n",
       "      <td>-0.399120</td>\n",
       "      <td>-0.404165</td>\n",
       "      <td>-0.442257</td>\n",
       "      <td>-0.449468</td>\n",
       "      <td>-0.152508</td>\n",
       "      <td>-1.338612</td>\n",
       "      <td>-1.377076</td>\n",
       "    </tr>\n",
       "    <tr>\n",
       "      <th>Zambia</th>\n",
       "      <td>51554</td>\n",
       "      <td>42933</td>\n",
       "      <td>16425</td>\n",
       "      <td>1196</td>\n",
       "      <td>92.289406</td>\n",
       "      <td>48.255017</td>\n",
       "      <td>7.614875</td>\n",
       "      <td>0.000498</td>\n",
       "      <td>-0.035928</td>\n",
       "      <td>-0.028460</td>\n",
       "      <td>-0.149955</td>\n",
       "      <td>-0.097514</td>\n",
       "      <td>1.235209</td>\n",
       "      <td>0.281302</td>\n",
       "    </tr>\n",
       "    <tr>\n",
       "      <th>Zimbabwe</th>\n",
       "      <td>14017</td>\n",
       "      <td>13101</td>\n",
       "      <td>4861</td>\n",
       "      <td>299</td>\n",
       "      <td>8.533728</td>\n",
       "      <td>25.144683</td>\n",
       "      <td>4.103592</td>\n",
       "      <td>-0.291812</td>\n",
       "      <td>-0.293206</td>\n",
       "      <td>-0.322533</td>\n",
       "      <td>-0.376484</td>\n",
       "      <td>-0.147462</td>\n",
       "      <td>-0.105310</td>\n",
       "      <td>-0.537045</td>\n",
       "    </tr>\n",
       "  </tbody>\n",
       "</table>\n",
       "<p>200 rows × 14 columns</p>\n",
       "</div>"
      ],
      "text/plain": [
       "                         requests  ae_responses  ae_impressions  ae_clicks  \\\n",
       "app_id   country                                                             \n",
       "22693095 Afghanistan          571           495             196         17   \n",
       "         Albania            36969         35439           12951       1460   \n",
       "         Algeria            40754         35030           14247        973   \n",
       "         Andorra               78            78              40         13   \n",
       "         Angola             37392         33461           11820       1516   \n",
       "...                           ...           ...             ...        ...   \n",
       "         Vietnam            59608         56879           22940       1836   \n",
       "         Western Sahara       906           893             410         33   \n",
       "         Yemen                237           235             153         10   \n",
       "         Zambia             51554         42933           16425       1196   \n",
       "         Zimbabwe           14017         13101            4861        299   \n",
       "\n",
       "                         ae_revenue  show_rate  click_rate  requests_zscore  \\\n",
       "app_id   country                                                              \n",
       "22693095 Afghanistan       0.345175   4.172300    0.856984        -0.396519   \n",
       "         Albania          52.230963  31.644676    7.785241        -0.113079   \n",
       "         Algeria          17.112385  43.477553    6.497883        -0.083604   \n",
       "         Andorra           1.351628   1.040761    0.681818        -0.400359   \n",
       "         Angola           47.706650  33.276280   10.249056        -0.109785   \n",
       "...                             ...        ...         ...              ...   \n",
       "         Vietnam         153.861943  43.499355    7.168897         0.063217   \n",
       "         Western Sahara    0.736768   7.885361    1.410989        -0.393911   \n",
       "         Yemen             0.072625   3.882742    0.499272        -0.399120   \n",
       "         Zambia           92.289406  48.255017    7.614875         0.000498   \n",
       "         Zimbabwe          8.533728  25.144683    4.103592        -0.291812   \n",
       "\n",
       "                         ae_responses_zscore  ae_impressions_zscore  \\\n",
       "app_id   country                                                      \n",
       "22693095 Afghanistan               -0.401922              -0.441164   \n",
       "         Albania                   -0.100558              -0.116804   \n",
       "         Algeria                   -0.104085              -0.083847   \n",
       "         Andorra                   -0.405519              -0.445131   \n",
       "         Angola                    -0.117617              -0.145565   \n",
       "...                                      ...                    ...   \n",
       "         Vietnam                    0.084345               0.137217   \n",
       "         Western Sahara            -0.398490              -0.435722   \n",
       "         Yemen                     -0.404165              -0.442257   \n",
       "         Zambia                    -0.035928              -0.028460   \n",
       "         Zimbabwe                  -0.293206              -0.322533   \n",
       "\n",
       "                         ae_clicks_zscore  ae_revenue_zscore  \\\n",
       "app_id   country                                               \n",
       "22693095 Afghanistan            -0.447700          -0.152346   \n",
       "         Albania                -0.083284          -0.121403   \n",
       "         Algeria                -0.206271          -0.142346   \n",
       "         Andorra                -0.448710          -0.151745   \n",
       "         Angola                 -0.069142          -0.124101   \n",
       "...                                   ...                ...   \n",
       "         Vietnam                 0.011671          -0.060795   \n",
       "         Western Sahara         -0.443659          -0.152112   \n",
       "         Yemen                  -0.449468          -0.152508   \n",
       "         Zambia                 -0.149955          -0.097514   \n",
       "         Zimbabwe               -0.376484          -0.147462   \n",
       "\n",
       "                         show_rate_zscore  click_rate_zscore  \n",
       "app_id   country                                              \n",
       "22693095 Afghanistan            -1.321816          -1.293707  \n",
       "         Albania                 0.271724           0.321008  \n",
       "         Algeria                 0.958092           0.020974  \n",
       "         Andorra                -1.503462          -1.334532  \n",
       "         Angola                  0.366365           0.895230  \n",
       "...                                   ...                ...  \n",
       "         Vietnam                 0.959356           0.177361  \n",
       "         Western Sahara         -1.106439          -1.164590  \n",
       "         Yemen                  -1.338612          -1.377076  \n",
       "         Zambia                  1.235209           0.281302  \n",
       "         Zimbabwe               -0.105310          -0.537045  \n",
       "\n",
       "[200 rows x 14 columns]"
      ]
     },
     "execution_count": 926,
     "metadata": {},
     "output_type": "execute_result"
    }
   ],
   "source": [
    "app_1"
   ]
  },
  {
   "cell_type": "code",
   "execution_count": 927,
   "metadata": {},
   "outputs": [],
   "source": [
    "#for loop to generate the zscore for app2\n",
    "for col in app_2.columns:\n",
    "    col_zscore = col + '_zscore'\n",
    "    app_2[col_zscore] = (app_2[col]-app_2[col].mean())/app_2[col].std(ddof=0)"
   ]
  },
  {
   "cell_type": "code",
   "execution_count": 928,
   "metadata": {},
   "outputs": [],
   "source": [
    "#creating dataframes for the outliers for the app1\n",
    "req_outliers1 = app_1[['requests','requests_zscore']]\n",
    "req_outliers1 =  req_outliers1[(req_outliers1.requests_zscore>3) | (req_outliers1.requests_zscore<-3)]\n",
    "\n",
    "click_outliers1 = app_1[['ae_clicks','ae_clicks_zscore']]\n",
    "click_outliers1 =  click_outliers1[(click_outliers1.ae_clicks_zscore>3) | (click_outliers1.ae_clicks_zscore<-3)]\n",
    "\n",
    "res_outliers1 = app_1[['ae_responses','ae_responses_zscore']]\n",
    "res_outliers1 =  res_outliers1[(res_outliers1.ae_responses_zscore>3) | (res_outliers1.ae_responses_zscore<-3)]\n",
    "\n",
    "imp_outliers1 = app_1[['ae_impressions','ae_impressions_zscore']]\n",
    "imp_outliers1 =  imp_outliers1[(imp_outliers1.ae_impressions_zscore>3) | (imp_outliers1.ae_impressions_zscore<-3)]\n",
    "\n",
    "rev_outliers1 = app_1[['ae_revenue','ae_revenue_zscore']]\n",
    "rev_outliers1 =  rev_outliers1[(rev_outliers1.ae_revenue_zscore>3) | (rev_outliers1.ae_revenue_zscore<-3)]\n",
    "\n",
    "click_rate1 = app_1[['click_rate','click_rate_zscore']]\n",
    "click_rate1 =  click_rate1[(click_rate1.click_rate_zscore>3) | (click_rate1.click_rate_zscore<-3)]\n",
    "\n",
    "show_rate1 = app_1[['show_rate','show_rate_zscore']]\n",
    "show_rate1 =  show_rate1[(show_rate1.show_rate_zscore>3) | (show_rate1.show_rate_zscore<-3)]"
   ]
  },
  {
   "cell_type": "code",
   "execution_count": 929,
   "metadata": {},
   "outputs": [
    {
     "name": "stderr",
     "output_type": "stream",
     "text": [
      "C:\\Users\\amank\\AppData\\Local\\Temp\\ipykernel_18492\\683349592.py:9: UserWarning:\n",
      "\n",
      "Boolean Series key will be reindexed to match DataFrame index.\n",
      "\n"
     ]
    }
   ],
   "source": [
    "#creating dataframes for the outliers for the app1\n",
    "req_outliers2 = app_2[['requests','requests_zscore']]\n",
    "req_outliers2 =  req_outliers2[(req_outliers2.requests_zscore>3) | (req_outliers2.requests_zscore<-3)]\n",
    "\n",
    "click_outliers2 = app_2[['ae_clicks','ae_clicks_zscore']]\n",
    "click_outliers2 =  click_outliers2[(click_outliers2.ae_clicks_zscore>3) | (click_outliers2.ae_clicks_zscore<-3)]\n",
    "\n",
    "res_outliers2 = app_2[['ae_responses','ae_responses_zscore']]\n",
    "res_outliers2 =  res_outliers2[(res_outliers1.ae_responses_zscore>3) | (res_outliers2.ae_responses_zscore<-3)]\n",
    "\n",
    "imp_outliers2 = app_2[['ae_impressions','ae_impressions_zscore']]\n",
    "imp_outliers2 =  imp_outliers2[(imp_outliers2.ae_impressions_zscore>3) | (imp_outliers2.ae_impressions_zscore<-3)]\n",
    "\n",
    "rev_outliers2 = app_2[['ae_revenue','ae_revenue_zscore']]\n",
    "rev_outliers2 =  rev_outliers2[(rev_outliers2.ae_revenue_zscore>3) | (rev_outliers2.ae_revenue_zscore<-3)]\n",
    "\n",
    "click_rate2 = app_2[['click_rate','click_rate_zscore']]\n",
    "click_rate2 =  click_rate2[(click_rate2.click_rate_zscore>3) | (click_rate2.click_rate_zscore<-3)]\n",
    "\n",
    "show_rate2 = app_2[['show_rate','show_rate_zscore']]\n",
    "show_rate2 =  show_rate2[(show_rate2.show_rate_zscore>3) | (show_rate2.show_rate_zscore<-3)]"
   ]
  },
  {
   "cell_type": "code",
   "execution_count": 930,
   "metadata": {},
   "outputs": [
    {
     "name": "stdout",
     "output_type": "stream",
     "text": [
      "                        requests  requests_zscore\n",
      "app_id   country                                 \n",
      "22693095 Brazil           527526         3.707015\n",
      "         India            757732         5.499688\n",
      "         Mexico           444929         3.063811\n",
      "         United States   1357911        10.173437\n",
      "                        ae_clicks  ae_clicks_zscore\n",
      "app_id   country                                   \n",
      "22693095 Brazil             20530          4.732662\n",
      "         Mexico             14383          3.180296\n",
      "         Morocco            17497          3.966707\n",
      "         United States      39018          9.401630\n",
      "                        ae_responses  ae_responses_zscore\n",
      "app_id   country                                         \n",
      "22693095 Brazil               516644             4.049456\n",
      "         India                579550             4.591970\n",
      "         Mexico               428159             3.286342\n",
      "         United States       1236261            10.255585\n",
      "                        ae_impressions  ae_impressions_zscore\n",
      "app_id   country                                             \n",
      "22693095 Brazil                 154985               3.495124\n",
      "         India                  200374               4.649367\n",
      "         Mexico                 141076               3.141418\n",
      "         Turkey                 139227               3.094398\n",
      "         United States          396618               9.639857\n",
      "                          ae_revenue  ae_revenue_zscore\n",
      "app_id   country                                       \n",
      "22693095 United States  23515.821145          13.871255\n",
      "Empty DataFrame\n",
      "Columns: [show_rate, show_rate_zscore]\n",
      "Index: []\n",
      "Empty DataFrame\n",
      "Columns: [click_rate, click_rate_zscore]\n",
      "Index: []\n"
     ]
    }
   ],
   "source": [
    "#Printing all the outliers for the app1\n",
    "print(req_outliers1)\n",
    "print(click_outliers1) \n",
    "print(res_outliers1) \n",
    "print(imp_outliers1)\n",
    "print(rev_outliers1)\n",
    "print(show_rate1)\n",
    "print(click_rate1)"
   ]
  },
  {
   "cell_type": "code",
   "execution_count": 931,
   "metadata": {},
   "outputs": [
    {
     "name": "stdout",
     "output_type": "stream",
     "text": [
      "                    requests  requests_zscore\n",
      "app_id   country                             \n",
      "40931528 Australia   1580002         9.518265\n",
      "                    ae_clicks  ae_clicks_zscore\n",
      "app_id   country                               \n",
      "40931528 Australia       8005           9.67392\n",
      "Empty DataFrame\n",
      "Columns: [ae_responses, ae_responses_zscore]\n",
      "Index: []\n",
      "                    ae_impressions  ae_impressions_zscore\n",
      "app_id   country                                         \n",
      "40931528 Australia          676946                9.55193\n",
      "                      ae_revenue  ae_revenue_zscore\n",
      "app_id   country                                   \n",
      "40931528 Australia  20766.244446           9.898315\n",
      "Empty DataFrame\n",
      "Columns: [show_rate, show_rate_zscore]\n",
      "Index: []\n",
      "                       click_rate  click_rate_zscore\n",
      "app_id   country                                    \n",
      "40931528 Senegal         3.329090            3.04885\n",
      "         Sierra Leone    3.868298            3.70478\n"
     ]
    }
   ],
   "source": [
    "#Printing all the outliers for the app2\n",
    "print(req_outliers2)\n",
    "print(click_outliers2) \n",
    "print(res_outliers2) \n",
    "print(imp_outliers2)\n",
    "print(rev_outliers2)\n",
    "print(show_rate2)\n",
    "print(click_rate2)"
   ]
  },
  {
   "cell_type": "markdown",
   "metadata": {},
   "source": [
    "Now what we can infer form the list of outliers for both the apps, let's see:\n",
    "\n",
    "For the App 1(App id - 22693095)\n",
    "\n",
    "1. In the country Brazil, India, Mexico and United States considering the revenue, impressions, clicks and requests, there are some adnormally high values especially in United states.\n",
    "\n",
    "2. For the metric click rate and show rate it looks like there are no outliers.\n",
    "\n",
    "For the App 2(App id - 40931528)\n",
    "\n",
    "1. In the country Australia considering the revenue, impressions, clicks and requests, there are some adnormally high values.\n",
    "\n",
    "2. Considering the metric shwo rate for country Senegal and Sierra Leone there are a bit high values."
   ]
  },
  {
   "cell_type": "markdown",
   "metadata": {},
   "source": []
  }
 ],
 "metadata": {
  "kernelspec": {
   "display_name": "Python 3.9.13 ('base')",
   "language": "python",
   "name": "python3"
  },
  "language_info": {
   "codemirror_mode": {
    "name": "ipython",
    "version": 3
   },
   "file_extension": ".py",
   "mimetype": "text/x-python",
   "name": "python",
   "nbconvert_exporter": "python",
   "pygments_lexer": "ipython3",
   "version": "3.9.13"
  },
  "orig_nbformat": 4,
  "vscode": {
   "interpreter": {
    "hash": "a214406c9e306ba334c5442f0b0c6e81ddfe8049ec9a56af86dd34f919a4029f"
   }
  }
 },
 "nbformat": 4,
 "nbformat_minor": 2
}
